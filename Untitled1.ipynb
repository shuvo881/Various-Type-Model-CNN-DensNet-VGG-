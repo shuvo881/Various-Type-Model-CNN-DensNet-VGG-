{
  "nbformat": 4,
  "nbformat_minor": 0,
  "metadata": {
    "colab": {
      "provenance": [],
      "mount_file_id": "1LsGX9u8QWI1jwDBIxyISKMI25BbXPzln",
      "authorship_tag": "ABX9TyOf5X0kCBtjdVxt/xaXvfqN",
      "include_colab_link": true
    },
    "kernelspec": {
      "name": "python3",
      "display_name": "Python 3"
    },
    "language_info": {
      "name": "python"
    },
    "accelerator": "GPU",
    "gpuClass": "standard"
  },
  "cells": [
    {
      "cell_type": "markdown",
      "metadata": {
        "id": "view-in-github",
        "colab_type": "text"
      },
      "source": [
        "<a href=\"https://colab.research.google.com/github/shuvo881/Various-Type-Model-CNN-DensNet-VGG-/blob/main/Untitled1.ipynb\" target=\"_parent\"><img src=\"https://colab.research.google.com/assets/colab-badge.svg\" alt=\"Open In Colab\"/></a>"
      ]
    },
    {
      "cell_type": "markdown",
      "source": [
        "# **Required library**"
      ],
      "metadata": {
        "id": "ZZi4fVu-Jr0U"
      }
    },
    {
      "cell_type": "code",
      "source": [
        "import numpy as np # linear algebra\n",
        "import pandas as pd\n",
        "import keras\n",
        "from keras.models import Sequential\n",
        "from keras.layers import Dense,Flatten,Conv2D,MaxPool2D,Dropout\n",
        "import matplotlib.pyplot as plot\n",
        "import seaborn as sns\n",
        "from keras.preprocessing.image import ImageDataGenerator\n",
        "import numpy as np\n",
        "import tensorflow as tf\n",
        "from tensorflow import keras\n",
        "from keras import layers\n",
        "\n",
        "import keras.preprocessing.image\n",
        "import numpy as np\n",
        "from keras.preprocessing.image import ImageDataGenerator\n",
        "from skimage.transform import rescale\n",
        "from keras.callbacks import ModelCheckpoint\n",
        "from keras.layers import Conv2D, MaxPooling2D, Flatten, Dense, \\\n",
        "    Dropout, BatchNormalization\n",
        "from keras.models import Sequential\n",
        "from keras.utils.np_utils import to_categorical\n",
        "from keras import layers\n",
        "from keras.applications.densenet import DenseNet201\n",
        "import matplotlib.pyplot as plot\n",
        "from sklearn.metrics import classification_report, confusion_matrix\n"
      ],
      "metadata": {
        "id": "hhw7GgutJqNi"
      },
      "execution_count": 2,
      "outputs": []
    },
    {
      "cell_type": "markdown",
      "source": [
        "# **Data Generate**\n",
        "\n",
        "\n",
        "\n",
        "> Data preprocessing \n",
        "\n",
        "\n",
        "\n",
        "\n",
        "\n",
        "\n",
        "\n",
        "---\n",
        "\n",
        "\n",
        "\n",
        "---\n",
        "\n",
        "\n",
        "\n",
        "---\n",
        "\n",
        "\n",
        "\n",
        "\n",
        "\n"
      ],
      "metadata": {
        "id": "zRvTSDEhspSy"
      }
    },
    {
      "cell_type": "code",
      "source": [
        "\n",
        "\n",
        "train_dir = \"/content/drive/MyDrive/Colab Notebooks/PR lab 1/split data/train\"\n",
        "test_dir = \"/content/drive/MyDrive/Colab Notebooks/PR lab 1/split data/test\"\n",
        "val_dir = \"/content/drive/MyDrive/Colab Notebooks/PR lab 1/split data/val\"\n",
        "generator_train = ImageDataGenerator(rescale=1./255, featurewise_center=False, samplewise_center=False,\n",
        "                                     featurewise_std_normalization=False, samplewise_std_normalization=False,\n",
        "                                     zca_whitening=False, rotation_range=0, width_shift_range=0,\n",
        "                                     height_shift_range=0,\n",
        "                                     horizontal_flip=True, vertical_flip=False)\n",
        "generator_test = ImageDataGenerator(rescale=1./255, featurewise_center=False, samplewise_center=False,\n",
        "                                     featurewise_std_normalization=False, samplewise_std_normalization=False,\n",
        "                                     zca_whitening=False, rotation_range=0, width_shift_range=0,\n",
        "                                     height_shift_range=0,\n",
        "                                     horizontal_flip=True, vertical_flip=False)\n",
        "\n",
        "generator_val = ImageDataGenerator(rescale=1./255, featurewise_center=False, samplewise_center=False,\n",
        "                                     featurewise_std_normalization=False, samplewise_std_normalization=False,\n",
        "                                     zca_whitening=False, rotation_range=0, width_shift_range=0,\n",
        "                                     height_shift_range=0,\n",
        "                                     horizontal_flip=True, vertical_flip=False)\n",
        "train_ds = generator_train.flow_from_directory(train_dir, target_size=(150,150), batch_size=32, class_mode=\"categorical\", color_mode=\"rgb\")\n",
        "test_ds = generator_test.flow_from_directory(test_dir, target_size=(150,150), batch_size=32, class_mode=\"categorical\", color_mode=\"rgb\")\n",
        "val_ds = generator_val.flow_from_directory(val_dir, target_size=(150,150), batch_size=32, class_mode=\"categorical\", color_mode=\"rgb\")\n"
      ],
      "metadata": {
        "colab": {
          "base_uri": "https://localhost:8080/"
        },
        "id": "hl3xDJqetNqR",
        "outputId": "56cd2857-8d1c-4285-e483-2f81953bf145"
      },
      "execution_count": 3,
      "outputs": [
        {
          "output_type": "stream",
          "name": "stdout",
          "text": [
            "Found 189 images belonging to 26 classes.\n",
            "Found 598 images belonging to 26 classes.\n",
            "Found 0 images belonging to 26 classes.\n"
          ]
        }
      ]
    },
    {
      "cell_type": "markdown",
      "source": [
        "# **CNN Model**\n",
        "\n",
        "\n",
        "\n",
        "---\n",
        "\n",
        "\n",
        "\n",
        "---\n",
        "\n",
        "\n",
        "\n",
        "---\n",
        "\n",
        "\n",
        "\n",
        "---\n",
        "\n",
        "\n"
      ],
      "metadata": {
        "id": "4OGndDALtYNL"
      }
    },
    {
      "cell_type": "code",
      "source": [
        "\n",
        "\n",
        "# Build the CNN model\n",
        "model = Sequential()\n",
        "model.add(Conv2D(128, kernel_size=(5, 5),\n",
        "                 padding='same', activation='relu', input_shape=(150, 150, 3)))\n",
        "model.add(MaxPool2D(pool_size=(3, 3), strides=2, padding='same'))\n",
        "model.add(Conv2D(64, kernel_size=(2, 2),\n",
        "                  activation='relu', padding='same'))\n",
        "model.add(MaxPool2D((2, 2), 2, padding='same'))\n",
        "model.add(Conv2D(32, kernel_size=(2, 2),\n",
        "                  activation='relu', padding='same'))\n",
        "model.add(MaxPool2D((2, 2), 2, padding='same'))\n",
        "\n",
        "model.add(Flatten())\n",
        "\n",
        "model.add(Dense(units=512,activation='relu'))\n",
        "model.add(Dropout(rate=0.25))\n",
        "model.add(Dense(units=9,activation='softmax'))\n",
        "\n",
        "# Compile the model\n",
        "model.compile(optimizer='adam', loss='categorical_crossentropy',metrics=['accuracy'])\n",
        "\n",
        "\n",
        "# Train the model\n",
        "hist = model.fit(train_ds, batch_size=5, epochs=10, validation_split=5, validation_data=test_ds)\n",
        "\n",
        "\n"
      ],
      "metadata": {
        "colab": {
          "base_uri": "https://localhost:8080/"
        },
        "id": "i0JAREVLtlRN",
        "outputId": "d70bc46b-811c-4bad-cba0-22547a42a498"
      },
      "execution_count": 3,
      "outputs": [
        {
          "output_type": "stream",
          "name": "stdout",
          "text": [
            "Epoch 1/10\n",
            "32/32 [==============================] - 19s 203ms/step - loss: 1.1136 - accuracy: 0.6477 - val_loss: 0.1175 - val_accuracy: 0.9642\n",
            "Epoch 2/10\n",
            "32/32 [==============================] - 6s 194ms/step - loss: 0.0853 - accuracy: 0.9824 - val_loss: 0.0411 - val_accuracy: 0.9870\n",
            "Epoch 3/10\n",
            "32/32 [==============================] - 5s 159ms/step - loss: 0.0369 - accuracy: 0.9922 - val_loss: 0.0156 - val_accuracy: 0.9935\n",
            "Epoch 4/10\n",
            "32/32 [==============================] - 7s 205ms/step - loss: 0.0207 - accuracy: 0.9932 - val_loss: 0.0155 - val_accuracy: 0.9967\n",
            "Epoch 5/10\n",
            "32/32 [==============================] - 5s 157ms/step - loss: 0.0165 - accuracy: 0.9971 - val_loss: 0.0161 - val_accuracy: 0.9902\n",
            "Epoch 6/10\n",
            "32/32 [==============================] - 10s 326ms/step - loss: 0.0154 - accuracy: 0.9932 - val_loss: 0.0315 - val_accuracy: 0.9902\n",
            "Epoch 7/10\n",
            "32/32 [==============================] - 5s 156ms/step - loss: 0.0090 - accuracy: 0.9971 - val_loss: 0.0262 - val_accuracy: 0.9967\n",
            "Epoch 8/10\n",
            "32/32 [==============================] - 6s 181ms/step - loss: 0.0112 - accuracy: 0.9961 - val_loss: 0.0271 - val_accuracy: 0.9935\n",
            "Epoch 9/10\n",
            "32/32 [==============================] - 5s 155ms/step - loss: 0.0164 - accuracy: 0.9980 - val_loss: 0.0148 - val_accuracy: 0.9967\n",
            "Epoch 10/10\n",
            "32/32 [==============================] - 6s 191ms/step - loss: 0.0040 - accuracy: 0.9980 - val_loss: 0.0272 - val_accuracy: 0.9902\n"
          ]
        }
      ]
    },
    {
      "cell_type": "code",
      "source": [
        "print('MODEL ACCURACY = {}%'.format(hist.history[\"accuracy\"][-1]*100))\n"
      ],
      "metadata": {
        "colab": {
          "base_uri": "https://localhost:8080/"
        },
        "id": "QXdTTWYyGHns",
        "outputId": "4d08459e-3cff-4a7c-d553-562a74c281b9"
      },
      "execution_count": 4,
      "outputs": [
        {
          "output_type": "stream",
          "name": "stdout",
          "text": [
            "MODEL ACCURACY = 99.80430603027344%\n"
          ]
        }
      ]
    },
    {
      "cell_type": "code",
      "source": [
        "plot.subplot(2,1,1)\n",
        "plot.plot(hist.history['accuracy'])\n",
        "plot.plot(hist.history['val_accuracy'])\n",
        "plot.title('CNN model accuracy carve')\n",
        "plot.ylabel('accuracy')\n",
        "plot.xlabel('epoch')\n",
        "plot.legend(['train', 'test'], loc='lower right')\n",
        "plot.show()\n",
        "\n",
        "\n",
        "plot.subplot(2,1,1)\n",
        "plot.plot(hist.history['loss'])\n",
        "plot.plot(hist.history['val_loss'])\n",
        "plot.title('CNN Model Loss carve')\n",
        "plot.ylabel('Loss')\n",
        "plot.xlabel('epoch')\n",
        "plot.legend(['train', 'test'], loc='lower right')\n",
        "plot.show()\n",
        "\n"
      ],
      "metadata": {
        "colab": {
          "base_uri": "https://localhost:8080/",
          "height": 337
        },
        "id": "2AfI3_hX-Wy7",
        "outputId": "311bffc0-86b8-40ef-ee12-aa4535c199a5"
      },
      "execution_count": 5,
      "outputs": [
        {
          "output_type": "display_data",
          "data": {
            "text/plain": [
              "<Figure size 432x288 with 1 Axes>"
            ],
            "image/png": "[encoded data removed]"
          },
          "metadata": {
            "needs_background": "light"
          }
        },
        {
          "output_type": "display_data",
          "data": {
            "text/plain": [
              "<Figure size 432x288 with 1 Axes>"
            ],
            "image/png": "[encoded data removed]"
          },
          "metadata": {
            "needs_background": "light"
          }
        }
      ]
    },
    {
      "cell_type": "code",
      "source": [
        "\n",
        "\n",
        "# Make predictions on the test data\n",
        "y_pred = model.predict(val_ds)\n",
        "y_pred_classes = np.argmax(y_pred, axis=1)\n",
        "# Generate the confusion matrix\n",
        "conf_mat = confusion_matrix(val_ds.classes, y_pred_classes, normalize='pred')\n",
        "\n",
        "print('Confusion matrix:\\n')\n",
        "sns.heatmap(conf_mat, annot=True, fmt=\".1f\")\n"
      ],
      "metadata": {
        "colab": {
          "base_uri": "https://localhost:8080/",
          "height": 334
        },
        "id": "eZ52NlCNR4j7",
        "outputId": "94fa7883-becc-4b1c-80b6-3e5aed965617"
      },
      "execution_count": 32,
      "outputs": [
        {
          "output_type": "stream",
          "name": "stdout",
          "text": [
            "15/15 [==============================] - 2s 121ms/step\n",
            "Confusion matrix:\n",
            "\n"
          ]
        },
        {
          "output_type": "execute_result",
          "data": {
            "text/plain": [
              "<AxesSubplot:>"
            ]
          },
          "metadata": {},
          "execution_count": 32
        },
        {
          "output_type": "display_data",
          "data": {
            "text/plain": [
              "<Figure size 432x288 with 2 Axes>"
            ],
            "image/png": "[encoded data removed]"
          },
          "metadata": {
            "needs_background": "light"
          }
        }
      ]
    },
    {
      "cell_type": "code",
      "source": [
        "\n",
        "conf_mat_repot = classification_report(val_ds.classes, y_pred_classes)\n",
        "\n",
        "print('Confusion matrix Report:\\n', conf_mat_repot)\n"
      ],
      "metadata": {
        "colab": {
          "base_uri": "https://localhost:8080/"
        },
        "id": "oHtBFg_imIuz",
        "outputId": "256fe917-848b-4114-8001-119bf5e733ca"
      },
      "execution_count": 36,
      "outputs": [
        {
          "output_type": "stream",
          "name": "stdout",
          "text": [
            "15/15 [==============================] - 2s 148ms/step\n",
            "Confusion matrix Report:\n",
            "               precision    recall  f1-score   support\n",
            "\n",
            "           0       0.22      1.00      0.36        98\n",
            "           1       0.00      0.00      0.00        58\n",
            "           2       0.00      0.00      0.00        45\n",
            "           3       0.00      0.00      0.00        66\n",
            "           4       0.00      0.00      0.00        42\n",
            "           5       0.00      0.00      0.00        38\n",
            "           6       0.00      0.00      0.00        35\n",
            "           7       0.00      0.00      0.00        35\n",
            "           8       0.00      0.00      0.00        37\n",
            "\n",
            "    accuracy                           0.22       454\n",
            "   macro avg       0.02      0.11      0.04       454\n",
            "weighted avg       0.05      0.22      0.08       454\n",
            "\n"
          ]
        },
        {
          "output_type": "stream",
          "name": "stderr",
          "text": [
            "/usr/local/lib/python3.9/dist-packages/sklearn/metrics/_classification.py:1344: UndefinedMetricWarning: Precision and F-score are ill-defined and being set to 0.0 in labels with no predicted samples. Use `zero_division` parameter to control this behavior.\n",
            "  _warn_prf(average, modifier, msg_start, len(result))\n",
            "/usr/local/lib/python3.9/dist-packages/sklearn/metrics/_classification.py:1344: UndefinedMetricWarning: Precision and F-score are ill-defined and being set to 0.0 in labels with no predicted samples. Use `zero_division` parameter to control this behavior.\n",
            "  _warn_prf(average, modifier, msg_start, len(result))\n",
            "/usr/local/lib/python3.9/dist-packages/sklearn/metrics/_classification.py:1344: UndefinedMetricWarning: Precision and F-score are ill-defined and being set to 0.0 in labels with no predicted samples. Use `zero_division` parameter to control this behavior.\n",
            "  _warn_prf(average, modifier, msg_start, len(result))\n"
          ]
        }
      ]
    },
    {
      "cell_type": "markdown",
      "source": [
        "# **DesNet**\n",
        "\n",
        "---\n",
        "\n",
        "\n",
        "\n",
        "---\n",
        "\n",
        "\n",
        "\n",
        "---\n",
        "\n",
        "\n",
        "\n",
        "---\n",
        "\n"
      ],
      "metadata": {
        "id": "2PIV2u92trO1"
      }
    },
    {
      "cell_type": "code",
      "source": [
        "def build_model(backbone):\n",
        "  model = Sequential()\n",
        "  model.add(backbone)\n",
        "  model.add(layers.GlobalAveragePooling2D())\n",
        "  model.add(Dropout(0.5))\n",
        "  model.add(layers.BatchNormalization())\n",
        "  model.add(Flatten())\n",
        "  model.add(Dense(9, activation='softmax'))\n",
        "  model.compile(optimizer='adam', loss='categorical_crossentropy', metrics=['accuracy'])\n",
        "  return model\n",
        "\n",
        "\n",
        "densent = DenseNet201(weights = 'imagenet', include_top=False)\n",
        "model = build_model(densent)\n",
        "model.summary()\n",
        "hist = model.fit_generator(train_ds, steps_per_epoch=5, epochs=10, validation_data=test_ds, validation_steps=5)\n",
        "\n",
        "p = model.predict(val_ds)"
      ],
      "metadata": {
        "colab": {
          "base_uri": "https://localhost:8080/"
        },
        "id": "06zy_HIFtxec",
        "outputId": "ef5a7892-26f2-49c5-92db-8507ecf072fd"
      },
      "execution_count": 21,
      "outputs": [
        {
          "output_type": "stream",
          "name": "stdout",
          "text": [
            "Model: \"sequential_1\"\n",
            "_________________________________________________________________\n",
            " Layer (type)                Output Shape              Param #   \n",
            "=================================================================\n",
            " densenet201 (Functional)    (None, None, None, 1920)  18321984  \n",
            "                                                                 \n",
            " global_average_pooling2d (G  (None, 1920)             0         \n",
            " lobalAveragePooling2D)                                          \n",
            "                                                                 \n",
            " dropout_1 (Dropout)         (None, 1920)              0         \n",
            "                                                                 \n",
            " batch_normalization (BatchN  (None, 1920)             7680      \n",
            " ormalization)                                                   \n",
            "                                                                 \n",
            " flatten_1 (Flatten)         (None, 1920)              0         \n",
            "                                                                 \n",
            " dense_2 (Dense)             (None, 9)                 17289     \n",
            "                                                                 \n",
            "=================================================================\n",
            "Total params: 18,346,953\n",
            "Trainable params: 18,114,057\n",
            "Non-trainable params: 232,896\n",
            "_________________________________________________________________\n"
          ]
        },
        {
          "output_type": "stream",
          "name": "stderr",
          "text": [
            "<ipython-input-21-538feaff8a03>:16: UserWarning: `Model.fit_generator` is deprecated and will be removed in a future version. Please use `Model.fit`, which supports generators.\n",
            "  hist = model.fit_generator(train_ds, steps_per_epoch=5, epochs=10, validation_data=test_ds, validation_steps=5)\n"
          ]
        },
        {
          "output_type": "stream",
          "name": "stdout",
          "text": [
            "Epoch 1/10\n",
            "5/5 [==============================] - 118s 1s/step - loss: 1.1342 - accuracy: 0.6375 - val_loss: 1.8669 - val_accuracy: 0.5437\n",
            "Epoch 2/10\n",
            "5/5 [==============================] - 3s 620ms/step - loss: 0.1360 - accuracy: 0.9688 - val_loss: 5.6829 - val_accuracy: 0.1187\n",
            "Epoch 3/10\n",
            "5/5 [==============================] - 3s 708ms/step - loss: 0.0404 - accuracy: 1.0000 - val_loss: 4.8247 - val_accuracy: 0.2625\n",
            "Epoch 4/10\n",
            "5/5 [==============================] - 2s 485ms/step - loss: 0.0691 - accuracy: 0.9875 - val_loss: 4.7278 - val_accuracy: 0.4250\n",
            "Epoch 5/10\n",
            "5/5 [==============================] - 3s 708ms/step - loss: 0.0711 - accuracy: 0.9937 - val_loss: 11.2019 - val_accuracy: 0.2625\n",
            "Epoch 6/10\n",
            "5/5 [==============================] - 3s 613ms/step - loss: 0.1269 - accuracy: 0.9438 - val_loss: 11.9028 - val_accuracy: 0.1187\n",
            "Epoch 7/10\n",
            "5/5 [==============================] - 2s 488ms/step - loss: 0.1871 - accuracy: 0.9438 - val_loss: 12.1451 - val_accuracy: 0.1375\n",
            "Epoch 8/10\n",
            "5/5 [==============================] - 8s 2s/step - loss: 0.0808 - accuracy: 0.9747 - val_loss: 9.4824 - val_accuracy: 0.1437\n",
            "Epoch 9/10\n",
            "5/5 [==============================] - 3s 618ms/step - loss: 0.0180 - accuracy: 0.9937 - val_loss: 3.5312 - val_accuracy: 0.4938\n",
            "Epoch 10/10\n",
            "5/5 [==============================] - 3s 615ms/step - loss: 0.0374 - accuracy: 0.9812 - val_loss: 2.6219 - val_accuracy: 0.5562\n",
            "15/15 [==============================] - 8s 279ms/step\n"
          ]
        }
      ]
    },
    {
      "cell_type": "code",
      "source": [
        "print('MODEL ACCURACY = {}%'.format(hist.history[\"accuracy\"][-1]*100))"
      ],
      "metadata": {
        "colab": {
          "base_uri": "https://localhost:8080/"
        },
        "id": "Uf5AF2avKZbC",
        "outputId": "86b850f4-9221-429c-c0f6-9dcfd754778e"
      },
      "execution_count": 22,
      "outputs": [
        {
          "output_type": "stream",
          "name": "stdout",
          "text": [
            "MODEL ACCURACY = 98.1249988079071%\n"
          ]
        }
      ]
    },
    {
      "cell_type": "code",
      "source": [
        "\n",
        "\n",
        "\n",
        "plot.subplot(2,1,1)\n",
        "plot.plot(hist.history['accuracy'])\n",
        "plot.plot(hist.history['val_accuracy'])\n",
        "plot.title('Transfer  model accuracy carve')\n",
        "plot.ylabel('accuracy')\n",
        "plot.xlabel('epoch')\n",
        "plot.legend(['train', 'test'], loc='lower right')\n",
        "plot.show()\n",
        "\n",
        "plot.subplot(2,1,1)\n",
        "plot.plot(hist.history['loss'])\n",
        "plot.plot(hist.history['val_loss'])\n",
        "plot.title('Transfer Model Loss carve')\n",
        "plot.ylabel('Loss')\n",
        "plot.xlabel('epoch')\n",
        "plot.legend(['train', 'test'], loc='lower right')\n",
        "plot.show()"
      ],
      "metadata": {
        "colab": {
          "base_uri": "https://localhost:8080/",
          "height": 337
        },
        "id": "o8L0bhzLKO1y",
        "outputId": "41a1d97f-7cfe-4c3b-f1cc-f70501048d92"
      },
      "execution_count": 23,
      "outputs": [
        {
          "output_type": "display_data",
          "data": {
            "text/plain": [
              "<Figure size 432x288 with 1 Axes>"
            ],
            "image/png": "[encoded data removed]"
          },
          "metadata": {
            "needs_background": "light"
          }
        },
        {
          "output_type": "display_data",
          "data": {
            "text/plain": [
              "<Figure size 432x288 with 1 Axes>"
            ],
            "image/png": "[encoded data removed]"
          },
          "metadata": {
            "needs_background": "light"
          }
        }
      ]
    },
    {
      "cell_type": "code",
      "source": [
        "# Make predictions on the test data\n",
        "y_pred = model.predict(val_ds)\n",
        "y_pred_classes = np.argmax(y_pred, axis=1)\n",
        "# Generate the confusion matrix\n",
        "conf_mat = confusion_matrix(val_ds.classes, y_pred_classes, normalize='pred')\n",
        "\n",
        "#print('Confusion matrix:\\n', conf_mat)\n",
        "sns.heatmap(conf_mat, annot=True, fmt=\".1f\")"
      ],
      "metadata": {
        "colab": {
          "base_uri": "https://localhost:8080/",
          "height": 300
        },
        "id": "1DK4d5elKXv7",
        "outputId": "06df83f3-c988-42f7-97d4-6a556aebbbe2"
      },
      "execution_count": 24,
      "outputs": [
        {
          "output_type": "stream",
          "name": "stdout",
          "text": [
            "15/15 [==============================] - 2s 124ms/step\n"
          ]
        },
        {
          "output_type": "execute_result",
          "data": {
            "text/plain": [
              "<AxesSubplot:>"
            ]
          },
          "metadata": {},
          "execution_count": 24
        },
        {
          "output_type": "display_data",
          "data": {
            "text/plain": [
              "<Figure size 432x288 with 2 Axes>"
            ],
            "image/png": "[encoded data removed]"
          },
          "metadata": {
            "needs_background": "light"
          }
        }
      ]
    },
    {
      "cell_type": "code",
      "source": [
        "\n",
        "conf_mat_repot = classification_report(val_ds.classes, y_pred_classes)\n",
        "\n",
        "print('Confusion matrix Report:\\n', conf_mat_repot)"
      ],
      "metadata": {
        "colab": {
          "base_uri": "https://localhost:8080/"
        },
        "id": "-pNbNB2AnXks",
        "outputId": "0ef01c41-c5ad-4a1c-fcee-8804b5e3d463"
      },
      "execution_count": 37,
      "outputs": [
        {
          "output_type": "stream",
          "name": "stdout",
          "text": [
            "Confusion matrix Report:\n",
            "               precision    recall  f1-score   support\n",
            "\n",
            "           0       0.22      1.00      0.36        98\n",
            "           1       0.00      0.00      0.00        58\n",
            "           2       0.00      0.00      0.00        45\n",
            "           3       0.00      0.00      0.00        66\n",
            "           4       0.00      0.00      0.00        42\n",
            "           5       0.00      0.00      0.00        38\n",
            "           6       0.00      0.00      0.00        35\n",
            "           7       0.00      0.00      0.00        35\n",
            "           8       0.00      0.00      0.00        37\n",
            "\n",
            "    accuracy                           0.22       454\n",
            "   macro avg       0.02      0.11      0.04       454\n",
            "weighted avg       0.05      0.22      0.08       454\n",
            "\n"
          ]
        },
        {
          "output_type": "stream",
          "name": "stderr",
          "text": [
            "/usr/local/lib/python3.9/dist-packages/sklearn/metrics/_classification.py:1344: UndefinedMetricWarning: Precision and F-score are ill-defined and being set to 0.0 in labels with no predicted samples. Use `zero_division` parameter to control this behavior.\n",
            "  _warn_prf(average, modifier, msg_start, len(result))\n",
            "/usr/local/lib/python3.9/dist-packages/sklearn/metrics/_classification.py:1344: UndefinedMetricWarning: Precision and F-score are ill-defined and being set to 0.0 in labels with no predicted samples. Use `zero_division` parameter to control this behavior.\n",
            "  _warn_prf(average, modifier, msg_start, len(result))\n",
            "/usr/local/lib/python3.9/dist-packages/sklearn/metrics/_classification.py:1344: UndefinedMetricWarning: Precision and F-score are ill-defined and being set to 0.0 in labels with no predicted samples. Use `zero_division` parameter to control this behavior.\n",
            "  _warn_prf(average, modifier, msg_start, len(result))\n"
          ]
        }
      ]
    },
    {
      "cell_type": "markdown",
      "source": [
        "# **VGG**\n",
        "\n",
        "---\n",
        "\n",
        "\n",
        "\n",
        "---\n",
        "\n",
        "\n",
        "\n",
        "---\n",
        "\n",
        "\n",
        "\n",
        "---\n",
        "\n"
      ],
      "metadata": {
        "id": "NruzRcOttx8P"
      }
    },
    {
      "cell_type": "code",
      "source": [],
      "metadata": {
        "id": "-iGZJlrRHX-U"
      },
      "execution_count": null,
      "outputs": []
    },
    {
      "cell_type": "code",
      "source": [
        "\n",
        "\n",
        "# Define the VGG architecture\n",
        "def vgg_block(x, num_filters, num_layers):\n",
        "    for i in range(num_layers):\n",
        "        x = layers.Conv2D(num_filters, 3, padding=\"same\", activation=\"relu\")(x)\n",
        "    x = layers.MaxPooling2D(2, strides=2)(x)\n",
        "    return x\n",
        "\n",
        "input_shape = (150, 150, 3)\n",
        "num_classes = 9\n",
        "\n",
        "inputs = layers.Input(shape=input_shape)\n",
        "x = vgg_block(inputs, 64, 2)\n",
        "x = vgg_block(x, 128, 2)\n",
        "x = vgg_block(x, 256, 3)\n",
        "x = vgg_block(x, 512, 3)\n",
        "x = vgg_block(x, 512, 3)\n",
        "x = layers.Flatten()(x)\n",
        "x = layers.Dense(4096, activation=\"relu\")(x)\n",
        "x = layers.Dropout(0.5)(x)\n",
        "x = layers.Dense(4096, activation=\"relu\")(x)\n",
        "x = layers.Dropout(0.5)(x)\n",
        "outputs = layers.Dense(num_classes, activation=\"softmax\")(x)\n",
        "\n",
        "model = tf.keras.Model(inputs=inputs, outputs=outputs)\n",
        "\n",
        "# Compile and train the model\n",
        "model.compile(loss=\"categorical_crossentropy\", optimizer=\"adam\", metrics=[\"accuracy\"])\n",
        "hist = model.fit(train_ds, batch_size=32, epochs=10, validation_data=test_ds)\n"
      ],
      "metadata": {
        "colab": {
          "base_uri": "https://localhost:8080/"
        },
        "id": "5fOZDnJbt3L0",
        "outputId": "87d742ef-5869-46de-8af5-a624c188be65"
      },
      "execution_count": 28,
      "outputs": [
        {
          "output_type": "stream",
          "name": "stdout",
          "text": [
            "Epoch 1/10\n",
            "32/32 [==============================] - 17s 272ms/step - loss: 2.3670 - accuracy: 0.2006 - val_loss: 2.1331 - val_accuracy: 0.2085\n",
            "Epoch 2/10\n",
            "32/32 [==============================] - 9s 266ms/step - loss: 2.0764 - accuracy: 0.2564 - val_loss: 2.1485 - val_accuracy: 0.2085\n",
            "Epoch 3/10\n",
            "32/32 [==============================] - 8s 257ms/step - loss: 2.0698 - accuracy: 0.2564 - val_loss: 2.1371 - val_accuracy: 0.2085\n",
            "Epoch 4/10\n",
            "32/32 [==============================] - 9s 290ms/step - loss: 2.0688 - accuracy: 0.2564 - val_loss: 2.1315 - val_accuracy: 0.2085\n",
            "Epoch 5/10\n",
            "32/32 [==============================] - 9s 269ms/step - loss: 2.0690 - accuracy: 0.2564 - val_loss: 2.1404 - val_accuracy: 0.2085\n",
            "Epoch 6/10\n",
            "32/32 [==============================] - 8s 250ms/step - loss: 2.0687 - accuracy: 0.2564 - val_loss: 2.1533 - val_accuracy: 0.2085\n",
            "Epoch 7/10\n",
            "32/32 [==============================] - 8s 254ms/step - loss: 2.0675 - accuracy: 0.2564 - val_loss: 2.1447 - val_accuracy: 0.2085\n",
            "Epoch 8/10\n",
            "32/32 [==============================] - 9s 291ms/step - loss: 2.0691 - accuracy: 0.2564 - val_loss: 2.1388 - val_accuracy: 0.2085\n",
            "Epoch 9/10\n",
            "32/32 [==============================] - 8s 249ms/step - loss: 2.0717 - accuracy: 0.2564 - val_loss: 2.1462 - val_accuracy: 0.2085\n",
            "Epoch 10/10\n",
            "32/32 [==============================] - 8s 260ms/step - loss: 2.0683 - accuracy: 0.2564 - val_loss: 2.1454 - val_accuracy: 0.2085\n"
          ]
        }
      ]
    },
    {
      "cell_type": "code",
      "source": [
        "print('MODEL ACCURACY = {}%'.format(hist.history[\"accuracy\"][-1]*100))"
      ],
      "metadata": {
        "colab": {
          "base_uri": "https://localhost:8080/"
        },
        "id": "6atfvzk9jP0D",
        "outputId": "62eebd04-210a-4f78-b188-d70cb8159909"
      },
      "execution_count": 29,
      "outputs": [
        {
          "output_type": "stream",
          "name": "stdout",
          "text": [
            "MODEL ACCURACY = 25.636008381843567%\n"
          ]
        }
      ]
    },
    {
      "cell_type": "code",
      "source": [
        "\n",
        "plot.subplot(2,1,1)\n",
        "plot.plot(hist.history['accuracy'])\n",
        "plot.plot(hist.history['val_accuracy'])\n",
        "plot.title('Transfer  model accuracy carve')\n",
        "plot.ylabel('accuracy')\n",
        "plot.xlabel('epoch')\n",
        "plot.legend(['train', 'test'], loc='lower right')\n",
        "plot.show()\n",
        "\n",
        "plot.subplot(2,1,1)\n",
        "plot.plot(hist.history['loss'])\n",
        "plot.plot(hist.history['val_loss'])\n",
        "plot.title('Transfer Model Loss carve')\n",
        "plot.ylabel('Loss')\n",
        "plot.xlabel('epoch')\n",
        "plot.legend(['train', 'test'], loc='lower right')\n",
        "plot.show()"
      ],
      "metadata": {
        "colab": {
          "base_uri": "https://localhost:8080/",
          "height": 337
        },
        "id": "nmzECpNujMZL",
        "outputId": "4773d414-c78c-41fe-a1da-f50632c666e3"
      },
      "execution_count": 30,
      "outputs": [
        {
          "output_type": "display_data",
          "data": {
            "text/plain": [
              "<Figure size 432x288 with 1 Axes>"
            ],
            "image/png": "[encoded data removed]"
          },
          "metadata": {
            "needs_background": "light"
          }
        },
        {
          "output_type": "display_data",
          "data": {
            "text/plain": [
              "<Figure size 432x288 with 1 Axes>"
            ],
            "image/png": "[encoded data removed]"
          },
          "metadata": {
            "needs_background": "light"
          }
        }
      ]
    },
    {
      "cell_type": "code",
      "source": [
        "# Make predictions on the test data\n",
        "y_pred = model.predict(val_ds)\n",
        "y_pred_classes = np.argmax(y_pred, axis=1)\n",
        "# Generate the confusion matrix\n",
        "conf_mat = confusion_matrix(val_ds.classes, y_pred_classes, normalize='pred')\n",
        "\n",
        "#print('Confusion matrix:\\n', conf_mat)\n",
        "sns.heatmap(conf_mat, annot=True, fmt=\".1f\")"
      ],
      "metadata": {
        "colab": {
          "base_uri": "https://localhost:8080/",
          "height": 300
        },
        "id": "ozAdfBJki6oP",
        "outputId": "bd58d092-99b2-4f74-d97f-952da52c2c9b"
      },
      "execution_count": 31,
      "outputs": [
        {
          "output_type": "stream",
          "name": "stdout",
          "text": [
            "15/15 [==============================] - 3s 183ms/step\n"
          ]
        },
        {
          "output_type": "execute_result",
          "data": {
            "text/plain": [
              "<AxesSubplot:>"
            ]
          },
          "metadata": {},
          "execution_count": 31
        },
        {
          "output_type": "display_data",
          "data": {
            "text/plain": [
              "<Figure size 432x288 with 2 Axes>"
            ],
            "image/png": "[encoded data removed]"
          },
          "metadata": {
            "needs_background": "light"
          }
        }
      ]
    },
    {
      "cell_type": "code",
      "source": [
        "\n",
        "conf_mat_repot = classification_report(val_ds.classes, y_pred_classes)\n",
        "\n",
        "print('Confusion matrix Report:\\n', conf_mat_repot)"
      ],
      "metadata": {
        "id": "uxQWCRngnc5B"
      },
      "execution_count": null,
      "outputs": []
    },
    {
      "cell_type": "code",
      "source": [],
      "metadata": {
        "id": "bI_m_Y0zjc7y"
      },
      "execution_count": null,
      "outputs": []
    }
  ]
}