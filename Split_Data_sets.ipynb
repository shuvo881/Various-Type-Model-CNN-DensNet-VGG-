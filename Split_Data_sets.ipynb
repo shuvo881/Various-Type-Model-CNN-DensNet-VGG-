{
  "nbformat": 4,
  "nbformat_minor": 0,
  "metadata": {
    "colab": {
      "provenance": [],
      "authorship_tag": "ABX9TyMU5jbFu2mYyAtnMmHhZI0V",
      "include_colab_link": true
    },
    "kernelspec": {
      "name": "python3",
      "display_name": "Python 3"
    },
    "language_info": {
      "name": "python"
    }
  },
  "cells": [
    {
      "cell_type": "markdown",
      "metadata": {
        "id": "view-in-github",
        "colab_type": "text"
      },
      "source": [
        "<a href=\"https://colab.research.google.com/github/shuvo881/Various-Type-Model-CNN-DensNet-VGG-/blob/main/Split_Data_sets.ipynb\" target=\"_parent\"><img src=\"https://colab.research.google.com/assets/colab-badge.svg\" alt=\"Open In Colab\"/></a>"
      ]
    },
    {
      "cell_type": "code",
      "execution_count": null,
      "metadata": {
        "id": "vh6jC9eNLUdy"
      },
      "outputs": [],
      "source": [
        "import splitfolders  # or import split_folders\n",
        "\n",
        "input_folder = 'asl_alphabet_train' #input Folder location\n",
        "\n",
        "splitfolders.ratio(input_folder, output=\"split data\",\n",
        "                   seed=42, ratio=(.6, .2, .2),\n",
        "                   group_prefix=None) # default values\n",
        "\n",
        "splitfolders.fixed(input_folder, output=\"split data\",\n",
        "                   seed=42, fixed=(35, 20),\n",
        "                   oversample=False, group_prefix=None)"
      ]
    }
  ]
}