{
  "cells": [
    {
      "cell_type": "markdown",
      "metadata": {
        "id": "view-in-github",
        "colab_type": "text"
      },
      "source": [
        "<a href=\"https://colab.research.google.com/github/shuvo881/Various-Type-Model-CNN-DensNet-VGG-/blob/main/main.ipynb\" target=\"_parent\"><img src=\"https://colab.research.google.com/assets/colab-badge.svg\" alt=\"Open In Colab\"/></a>"
      ]
    },
    {
      "cell_type": "markdown",
      "metadata": {
        "id": "hFEHjBh9DJVv"
      },
      "source": [
        "# ***Please, Don't Deep copy...***"
      ]
    },
    {
      "cell_type": "markdown",
      "metadata": {
        "id": "ZZi4fVu-Jr0U"
      },
      "source": [
        "# **Required library**"
      ]
    },
    {
      "cell_type": "code",
      "execution_count": null,
      "metadata": {
        "id": "hhw7GgutJqNi"
      },
      "outputs": [],
      "source": [
        "import numpy as np # linear algebra\n",
        "import pandas as pd\n",
        "import keras\n",
        "from keras.models import Sequential\n",
        "from keras.layers import Dense,Flatten,Conv2D,MaxPool2D,Dropout\n",
        "import matplotlib.pyplot as plot\n",
        "import seaborn as sns\n",
        "from keras.preprocessing.image import ImageDataGenerator\n",
        "import numpy as np\n",
        "import tensorflow as tf\n",
        "from tensorflow import keras\n",
        "from keras import layers\n",
        "\n",
        "import keras.preprocessing.image\n",
        "import numpy as np\n",
        "from keras.preprocessing.image import ImageDataGenerator\n",
        "from skimage.transform import rescale\n",
        "from keras.callbacks import ModelCheckpoint\n",
        "from keras.layers import Conv2D, MaxPooling2D, Flatten, Dense, \\\n",
        "    Dropout, BatchNormalization\n",
        "from keras.models import Sequential\n",
        "from keras.utils.np_utils import to_categorical\n",
        "from keras import layers\n",
        "from keras.applications.densenet import DenseNet201\n",
        "import matplotlib.pyplot as plot\n",
        "from sklearn.metrics import classification_report, confusion_matrix\n"
      ]
    },
    {
      "cell_type": "markdown",
      "metadata": {
        "id": "zRvTSDEhspSy"
      },
      "source": [
        "# **Data Generate**\n",
        "\n",
        "\n",
        "\n",
        "> Data preprocessing \n",
        "\n",
        "\n",
        "\n",
        "\n",
        "\n",
        "\n",
        "\n",
        "---\n",
        "\n",
        "\n",
        "\n",
        "---\n",
        "\n",
        "\n",
        "\n",
        "---\n",
        "\n",
        "\n",
        "\n",
        "\n",
        "\n"
      ]
    },
    {
      "cell_type": "code",
      "execution_count": null,
      "metadata": {
        "colab": {
          "base_uri": "https://localhost:8080/"
        },
        "id": "hl3xDJqetNqR",
        "outputId": "1e9252d4-d535-4c8b-ee52-0c464d23dc4b"
      },
      "outputs": [
        {
          "name": "stdout",
          "output_type": "stream",
          "text": [
            "Found 1014 images belonging to 26 classes.\n",
            "Found 520 images belonging to 26 classes.\n",
            "Found 12 images belonging to 26 classes.\n"
          ]
        }
      ],
      "source": [
        "\n",
        "\n",
        "train_dir = \"/content/drive/MyDrive/Colab Notebooks/PR lab 1/split data/train\"\n",
        "test_dir = \"/content/drive/MyDrive/Colab Notebooks/PR lab 1/split data/test\"\n",
        "val_dir = \"/content/drive/MyDrive/Colab Notebooks/PR lab 1/split data/val\"\n",
        "generator_train = ImageDataGenerator(rescale=1./255, featurewise_center=False, samplewise_center=False,\n",
        "                                     featurewise_std_normalization=False, samplewise_std_normalization=False,\n",
        "                                     zca_whitening=False, rotation_range=0, width_shift_range=0,\n",
        "                                     height_shift_range=0,\n",
        "                                     horizontal_flip=True, vertical_flip=False)\n",
        "generator_test = ImageDataGenerator(rescale=1./255, featurewise_center=False, samplewise_center=False,\n",
        "                                     featurewise_std_normalization=False, samplewise_std_normalization=False,\n",
        "                                     zca_whitening=False, rotation_range=0, width_shift_range=0,\n",
        "                                     height_shift_range=0,\n",
        "                                     horizontal_flip=True, vertical_flip=False)\n",
        "\n",
        "generator_val = ImageDataGenerator(rescale=1./255, featurewise_center=False, samplewise_center=False,\n",
        "                                     featurewise_std_normalization=False, samplewise_std_normalization=False,\n",
        "                                     zca_whitening=False, rotation_range=0, width_shift_range=0,\n",
        "                                     height_shift_range=0,\n",
        "                                     horizontal_flip=True, vertical_flip=False)\n",
        "train_ds = generator_train.flow_from_directory(train_dir, target_size=(64,64), batch_size=32, class_mode=\"categorical\", color_mode=\"rgb\")\n",
        "test_ds = generator_test.flow_from_directory(test_dir, target_size=(64,64), batch_size=32, class_mode=\"categorical\", color_mode=\"rgb\")\n",
        "val_ds = generator_val.flow_from_directory(val_dir, target_size=(64,64), batch_size=32, class_mode=\"categorical\", color_mode=\"rgb\")\n"
      ]
    },
    {
      "cell_type": "markdown",
      "metadata": {
        "id": "4OGndDALtYNL"
      },
      "source": [
        "# **CNN Model**\n",
        "\n",
        "\n",
        "\n",
        "---\n",
        "\n",
        "\n",
        "\n",
        "---\n",
        "\n",
        "\n",
        "\n",
        "---\n",
        "\n",
        "\n",
        "\n",
        "---\n",
        "\n",
        "\n"
      ]
    },
    {
      "cell_type": "code",
      "execution_count": null,
      "metadata": {
        "colab": {
          "base_uri": "https://localhost:8080/"
        },
        "id": "i0JAREVLtlRN",
        "outputId": "e6db3feb-48c9-4d3d-a031-6aad282f14cc"
      },
      "outputs": [
        {
          "name": "stdout",
          "output_type": "stream",
          "text": [
            "Epoch 1/5\n",
            "5/5 [==============================] - 180s 42s/step - loss: 2.4136 - accuracy: 0.2372 - val_loss: 10.2269 - val_accuracy: 0.0423\n",
            "Epoch 2/5\n",
            "5/5 [==============================] - 42s 9s/step - loss: 1.7997 - accuracy: 0.2244 - val_loss: 4.7517 - val_accuracy: 0.0404\n",
            "Epoch 3/5\n",
            "5/5 [==============================] - 41s 9s/step - loss: 1.5029 - accuracy: 0.2564 - val_loss: 8.9565 - val_accuracy: 0.0481\n",
            "Epoch 4/5\n",
            "5/5 [==============================] - 40s 9s/step - loss: 1.4868 - accuracy: 0.2949 - val_loss: 7.9054 - val_accuracy: 0.0385\n",
            "Epoch 5/5\n",
            "5/5 [==============================] - 39s 9s/step - loss: 1.4091 - accuracy: 0.3077 - val_loss: 6.8957 - val_accuracy: 0.0442\n"
          ]
        }
      ],
      "source": [
        "\n",
        "\n",
        "# Build the CNN model\n",
        "model = Sequential()\n",
        "model.add(Conv2D(128, kernel_size=(5, 5),\n",
        "                 padding='same', activation='relu', input_shape=(64, 64, 3)))\n",
        "model.add(MaxPool2D(pool_size=(3, 3), strides=2, padding='same'))\n",
        "model.add(Conv2D(64, kernel_size=(2, 2),\n",
        "                  activation='relu', padding='same'))\n",
        "model.add(MaxPool2D((2, 2), 2, padding='same'))\n",
        "model.add(Conv2D(32, kernel_size=(2, 2),\n",
        "                  activation='relu', padding='same'))\n",
        "model.add(MaxPool2D((2, 2), 2, padding='same'))\n",
        "\n",
        "model.add(Flatten())\n",
        "\n",
        "model.add(Dense(units=512,activation='relu'))\n",
        "model.add(Dropout(rate=0.25))\n",
        "model.add(Dense(units=26,activation='softmax'))\n",
        "\n",
        "# Compile the model\n",
        "model.compile(optimizer='adam', loss='categorical_crossentropy',metrics=['accuracy'])\n",
        "\n",
        "\n",
        "# Train the model\n",
        "hist = model.fit(train_ds, batch_size=5, epochs=5, validation_split=5, validation_data=test_ds)\n",
        "\n",
        "\n"
      ]
    },
    {
      "cell_type": "code",
      "execution_count": null,
      "metadata": {
        "colab": {
          "base_uri": "https://localhost:8080/"
        },
        "id": "QXdTTWYyGHns",
        "outputId": "a6572250-24b4-4ac1-b904-598a2ec497fd"
      },
      "outputs": [
        {
          "name": "stdout",
          "output_type": "stream",
          "text": [
            "MODEL ACCURACY = 30.769231915473938%\n"
          ]
        }
      ],
      "source": [
        "print('MODEL ACCURACY = {}%'.format(hist.history[\"accuracy\"][-1]*100))\n"
      ]
    },
    {
      "cell_type": "code",
      "execution_count": null,
      "metadata": {
        "colab": {
          "base_uri": "https://localhost:8080/",
          "height": 337
        },
        "id": "2AfI3_hX-Wy7",
        "outputId": "20582f43-508f-46fc-c748-b58d59b554c6"
      },
      "outputs": [
        {
          "data": {
            "image/png": "[encoded data removed]",
            "text/plain": [
              "<Figure size 432x288 with 1 Axes>"
            ]
          },
          "metadata": {},
          "output_type": "display_data"
        },
        {
          "data": {
            "image/png": "[encoded data removed]",
            "text/plain": [
              "<Figure size 432x288 with 1 Axes>"
            ]
          },
          "metadata": {},
          "output_type": "display_data"
        }
      ],
      "source": [
        "plot.subplot(2,1,1)\n",
        "plot.plot(hist.history['accuracy'])\n",
        "plot.plot(hist.history['val_accuracy'])\n",
        "plot.title('CNN model accuracy carve')\n",
        "plot.ylabel('accuracy')\n",
        "plot.xlabel('epoch')\n",
        "plot.legend(['train', 'test'], loc='lower right')\n",
        "plot.show()\n",
        "\n",
        "\n",
        "plot.subplot(2,1,1)\n",
        "plot.plot(hist.history['loss'])\n",
        "plot.plot(hist.history['val_loss'])\n",
        "plot.title('CNN Model Loss carve')\n",
        "plot.ylabel('Loss')\n",
        "plot.xlabel('epoch')\n",
        "plot.legend(['train', 'test'], loc='lower right')\n",
        "plot.show()\n",
        "\n"
      ]
    },
    {
      "cell_type": "code",
      "execution_count": null,
      "metadata": {
        "colab": {
          "base_uri": "https://localhost:8080/",
          "height": 338
        },
        "id": "eZ52NlCNR4j7",
        "outputId": "b3a1eb38-ed65-4d31-b7ba-ccc9dd9e2080"
      },
      "outputs": [
        {
          "name": "stdout",
          "output_type": "stream",
          "text": [
            "1/1 [==============================] - 1s 897ms/step\n",
            "Confusion matrix:\n",
            "\n"
          ]
        },
        {
          "data": {
            "text/plain": [
              "<AxesSubplot:>"
            ]
          },
          "execution_count": 18,
          "metadata": {},
          "output_type": "execute_result"
        },
        {
          "data": {
            "image/png": "[encoded data removed]",
            "text/plain": [
              "<Figure size 432x288 with 2 Axes>"
            ]
          },
          "metadata": {},
          "output_type": "display_data"
        }
      ],
      "source": [
        "\n",
        "\n",
        "# Make predictions on the test data\n",
        "y_pred = model.predict(val_ds)\n",
        "y_pred_classes = np.argmax(y_pred, axis=1)\n",
        "# Generate the confusion matrix\n",
        "conf_mat = confusion_matrix(val_ds.classes, y_pred_classes, normalize='pred')\n",
        "\n",
        "print('Confusion matrix:\\n')\n",
        "sns.heatmap(conf_mat, annot=True, fmt=\".1f\")\n"
      ]
    },
    {
      "cell_type": "code",
      "execution_count": null,
      "metadata": {
        "colab": {
          "base_uri": "https://localhost:8080/"
        },
        "id": "oHtBFg_imIuz",
        "outputId": "8ad1fd1f-548f-4414-d328-f3e04a848427"
      },
      "outputs": [
        {
          "name": "stdout",
          "output_type": "stream",
          "text": [
            "Confusion matrix Report:\n",
            "               precision    recall  f1-score   support\n",
            "\n",
            "           0       1.00      0.33      0.50        12\n",
            "           1       0.00      0.00      0.00         0\n",
            "           3       0.00      0.00      0.00         0\n",
            "\n",
            "    accuracy                           0.33        12\n",
            "   macro avg       0.33      0.11      0.17        12\n",
            "weighted avg       1.00      0.33      0.50        12\n",
            "\n"
          ]
        },
        {
          "name": "stderr",
          "output_type": "stream",
          "text": [
            "/usr/local/lib/python3.9/dist-packages/sklearn/metrics/_classification.py:1344: UndefinedMetricWarning: Recall and F-score are ill-defined and being set to 0.0 in labels with no true samples. Use `zero_division` parameter to control this behavior.\n",
            "  _warn_prf(average, modifier, msg_start, len(result))\n",
            "/usr/local/lib/python3.9/dist-packages/sklearn/metrics/_classification.py:1344: UndefinedMetricWarning: Recall and F-score are ill-defined and being set to 0.0 in labels with no true samples. Use `zero_division` parameter to control this behavior.\n",
            "  _warn_prf(average, modifier, msg_start, len(result))\n",
            "/usr/local/lib/python3.9/dist-packages/sklearn/metrics/_classification.py:1344: UndefinedMetricWarning: Recall and F-score are ill-defined and being set to 0.0 in labels with no true samples. Use `zero_division` parameter to control this behavior.\n",
            "  _warn_prf(average, modifier, msg_start, len(result))\n"
          ]
        }
      ],
      "source": [
        "\n",
        "conf_mat_repot = classification_report(val_ds.classes, y_pred_classes)\n",
        "\n",
        "print('Confusion matrix Report:\\n', conf_mat_repot)\n"
      ]
    },
    {
      "cell_type": "markdown",
      "metadata": {
        "id": "2PIV2u92trO1"
      },
      "source": [
        "# **DesNet**\n",
        "\n",
        "---\n",
        "\n",
        "\n",
        "\n",
        "---\n",
        "\n",
        "\n",
        "\n",
        "---\n",
        "\n",
        "\n",
        "\n",
        "---\n",
        "\n"
      ]
    },
    {
      "cell_type": "code",
      "execution_count": null,
      "metadata": {
        "colab": {
          "base_uri": "https://localhost:8080/"
        },
        "id": "06zy_HIFtxec",
        "outputId": "ba83c228-9f41-42eb-a8f3-26d1a6b51d49"
      },
      "outputs": [
        {
          "name": "stdout",
          "output_type": "stream",
          "text": [
            "Downloading data from https://storage.googleapis.com/tensorflow/keras-applications/densenet/densenet201_weights_tf_dim_ordering_tf_kernels_notop.h5\n",
            "74836368/74836368 [==============================] - 1s 0us/step\n",
            "Model: \"sequential_2\"\n",
            "_________________________________________________________________\n",
            " Layer (type)                Output Shape              Param #   \n",
            "=================================================================\n",
            " densenet201 (Functional)    (None, None, None, 1920)  18321984  \n",
            "                                                                 \n",
            " global_average_pooling2d (G  (None, 1920)             0         \n",
            " lobalAveragePooling2D)                                          \n",
            "                                                                 \n",
            " dropout_2 (Dropout)         (None, 1920)              0         \n",
            "                                                                 \n",
            " batch_normalization (BatchN  (None, 1920)             7680      \n",
            " ormalization)                                                   \n",
            "                                                                 \n",
            " flatten_2 (Flatten)         (None, 1920)              0         \n",
            "                                                                 \n",
            " dense_4 (Dense)             (None, 26)                49946     \n",
            "                                                                 \n",
            "=================================================================\n",
            "Total params: 18,379,610\n",
            "Trainable params: 18,146,714\n",
            "Non-trainable params: 232,896\n",
            "_________________________________________________________________\n"
          ]
        },
        {
          "name": "stderr",
          "output_type": "stream",
          "text": [
            "<ipython-input-20-ea53a129da92>:16: UserWarning: `Model.fit_generator` is deprecated and will be removed in a future version. Please use `Model.fit`, which supports generators.\n",
            "  hist = model.fit_generator(train_ds, steps_per_epoch=5, epochs=5, validation_data=test_ds, validation_steps=5)\n"
          ]
        },
        {
          "name": "stdout",
          "output_type": "stream",
          "text": [
            "Epoch 1/5\n",
            "5/5 [==============================] - 206s 25s/step - loss: 3.4489 - accuracy: 0.0750 - val_loss: 5.5839 - val_accuracy: 0.0688\n",
            "Epoch 2/5\n",
            "5/5 [==============================] - 115s 23s/step - loss: 2.7608 - accuracy: 0.2500 - val_loss: 4.8354 - val_accuracy: 0.0750\n",
            "Epoch 3/5\n",
            "5/5 [==============================] - 103s 21s/step - loss: 2.2121 - accuracy: 0.3667 - val_loss: 4.8509 - val_accuracy: 0.1187\n",
            "Epoch 4/5\n",
            "5/5 [==============================] - 111s 23s/step - loss: 1.7193 - accuracy: 0.4812 - val_loss: 4.5134 - val_accuracy: 0.1063\n",
            "Epoch 5/5\n",
            "5/5 [==============================] - 106s 23s/step - loss: 1.6072 - accuracy: 0.5267 - val_loss: 6.3011 - val_accuracy: 0.0312\n",
            "1/1 [==============================] - 5s 5s/step\n"
          ]
        }
      ],
      "source": [
        "def build_model(backbone):\n",
        "  model = Sequential()\n",
        "  model.add(backbone)\n",
        "  model.add(layers.GlobalAveragePooling2D())\n",
        "  model.add(Dropout(0.5))\n",
        "  model.add(layers.BatchNormalization())\n",
        "  model.add(Flatten())\n",
        "  model.add(Dense(26, activation='softmax'))\n",
        "  model.compile(optimizer='adam', loss='categorical_crossentropy', metrics=['accuracy'])\n",
        "  return model\n",
        "\n",
        "\n",
        "densent = DenseNet201(weights = 'imagenet', include_top=False)\n",
        "model = build_model(densent)\n",
        "model.summary()\n",
        "hist = model.fit_generator(train_ds, steps_per_epoch=5, epochs=5, validation_data=test_ds, validation_steps=5)\n",
        "\n",
        "p = model.predict(val_ds)"
      ]
    },
    {
      "cell_type": "code",
      "execution_count": null,
      "metadata": {
        "colab": {
          "base_uri": "https://localhost:8080/"
        },
        "id": "Uf5AF2avKZbC",
        "outputId": "8873048c-5e2f-458e-b46c-b856a4763c51"
      },
      "outputs": [
        {
          "name": "stdout",
          "output_type": "stream",
          "text": [
            "MODEL ACCURACY = 52.666664123535156%\n"
          ]
        }
      ],
      "source": [
        "print('MODEL ACCURACY = {}%'.format(hist.history[\"accuracy\"][-1]*100))"
      ]
    },
    {
      "cell_type": "code",
      "execution_count": null,
      "metadata": {
        "colab": {
          "base_uri": "https://localhost:8080/",
          "height": 337
        },
        "id": "o8L0bhzLKO1y",
        "outputId": "fab7be71-c23d-4a75-e63d-7673f3bfe64f"
      },
      "outputs": [
        {
          "data": {
            "image/png": "[encoded data removed]",
            "text/plain": [
              "<Figure size 432x288 with 1 Axes>"
            ]
          },
          "metadata": {},
          "output_type": "display_data"
        },
        {
          "data": {
            "image/png": "[encoded data removed]",
            "text/plain": [
              "<Figure size 432x288 with 1 Axes>"
            ]
          },
          "metadata": {},
          "output_type": "display_data"
        }
      ],
      "source": [
        "\n",
        "\n",
        "\n",
        "plot.subplot(2,1,1)\n",
        "plot.plot(hist.history['accuracy'])\n",
        "plot.plot(hist.history['val_accuracy'])\n",
        "plot.title('DensNet  model accuracy carve')\n",
        "plot.ylabel('accuracy')\n",
        "plot.xlabel('epoch')\n",
        "plot.legend(['train', 'test'], loc='lower right')\n",
        "plot.show()\n",
        "\n",
        "plot.subplot(2,1,1)\n",
        "plot.plot(hist.history['loss'])\n",
        "plot.plot(hist.history['val_loss'])\n",
        "plot.title('DensNet Model Loss carve')\n",
        "plot.ylabel('Loss')\n",
        "plot.xlabel('epoch')\n",
        "plot.legend(['train', 'test'], loc='lower right')\n",
        "plot.show()"
      ]
    },
    {
      "cell_type": "code",
      "execution_count": null,
      "metadata": {
        "colab": {
          "base_uri": "https://localhost:8080/",
          "height": 304
        },
        "id": "1DK4d5elKXv7",
        "outputId": "62c6e405-13b8-4ac8-b857-bc1d193c0b50"
      },
      "outputs": [
        {
          "name": "stdout",
          "output_type": "stream",
          "text": [
            "1/1 [==============================] - 1s 1s/step\n"
          ]
        },
        {
          "data": {
            "text/plain": [
              "<AxesSubplot:>"
            ]
          },
          "execution_count": 23,
          "metadata": {},
          "output_type": "execute_result"
        },
        {
          "data": {
            "image/png": "[encoded data removed]",
            "text/plain": [
              "<Figure size 432x288 with 2 Axes>"
            ]
          },
          "metadata": {},
          "output_type": "display_data"
        }
      ],
      "source": [
        "# Make predictions on the test data\n",
        "y_pred = model.predict(val_ds)\n",
        "y_pred_classes = np.argmax(y_pred, axis=1)\n",
        "# Generate the confusion matrix\n",
        "conf_mat = confusion_matrix(val_ds.classes, y_pred_classes, normalize='pred')\n",
        "\n",
        "#print('Confusion matrix:\\n', conf_mat)\n",
        "sns.heatmap(conf_mat, annot=True, fmt=\".1f\")"
      ]
    },
    {
      "cell_type": "code",
      "execution_count": null,
      "metadata": {
        "colab": {
          "base_uri": "https://localhost:8080/"
        },
        "id": "-pNbNB2AnXks",
        "outputId": "e72dd77a-df0c-46e9-95ec-30aecf405a55"
      },
      "outputs": [
        {
          "name": "stdout",
          "output_type": "stream",
          "text": [
            "Confusion matrix Report:\n",
            "               precision    recall  f1-score   support\n",
            "\n",
            "           0       0.00      0.00      0.00      12.0\n",
            "           2       0.00      0.00      0.00       0.0\n",
            "          13       0.00      0.00      0.00       0.0\n",
            "\n",
            "    accuracy                           0.00      12.0\n",
            "   macro avg       0.00      0.00      0.00      12.0\n",
            "weighted avg       0.00      0.00      0.00      12.0\n",
            "\n"
          ]
        },
        {
          "name": "stderr",
          "output_type": "stream",
          "text": [
            "/usr/local/lib/python3.9/dist-packages/sklearn/metrics/_classification.py:1344: UndefinedMetricWarning: Precision and F-score are ill-defined and being set to 0.0 in labels with no predicted samples. Use `zero_division` parameter to control this behavior.\n",
            "  _warn_prf(average, modifier, msg_start, len(result))\n",
            "/usr/local/lib/python3.9/dist-packages/sklearn/metrics/_classification.py:1344: UndefinedMetricWarning: Recall and F-score are ill-defined and being set to 0.0 in labels with no true samples. Use `zero_division` parameter to control this behavior.\n",
            "  _warn_prf(average, modifier, msg_start, len(result))\n",
            "/usr/local/lib/python3.9/dist-packages/sklearn/metrics/_classification.py:1344: UndefinedMetricWarning: Precision and F-score are ill-defined and being set to 0.0 in labels with no predicted samples. Use `zero_division` parameter to control this behavior.\n",
            "  _warn_prf(average, modifier, msg_start, len(result))\n",
            "/usr/local/lib/python3.9/dist-packages/sklearn/metrics/_classification.py:1344: UndefinedMetricWarning: Recall and F-score are ill-defined and being set to 0.0 in labels with no true samples. Use `zero_division` parameter to control this behavior.\n",
            "  _warn_prf(average, modifier, msg_start, len(result))\n",
            "/usr/local/lib/python3.9/dist-packages/sklearn/metrics/_classification.py:1344: UndefinedMetricWarning: Precision and F-score are ill-defined and being set to 0.0 in labels with no predicted samples. Use `zero_division` parameter to control this behavior.\n",
            "  _warn_prf(average, modifier, msg_start, len(result))\n",
            "/usr/local/lib/python3.9/dist-packages/sklearn/metrics/_classification.py:1344: UndefinedMetricWarning: Recall and F-score are ill-defined and being set to 0.0 in labels with no true samples. Use `zero_division` parameter to control this behavior.\n",
            "  _warn_prf(average, modifier, msg_start, len(result))\n"
          ]
        }
      ],
      "source": [
        "\n",
        "conf_mat_repot = classification_report(val_ds.classes, y_pred_classes)\n",
        "\n",
        "print('Confusion matrix Report:\\n', conf_mat_repot)"
      ]
    },
    {
      "cell_type": "markdown",
      "metadata": {
        "id": "NruzRcOttx8P"
      },
      "source": [
        "# **VGG**\n",
        "\n",
        "---\n",
        "\n",
        "\n",
        "\n",
        "---\n",
        "\n",
        "\n",
        "\n",
        "---\n",
        "\n",
        "\n",
        "\n",
        "---\n",
        "\n"
      ]
    },
    {
      "cell_type": "code",
      "execution_count": null,
      "metadata": {
        "colab": {
          "background_save": true,
          "base_uri": "https://localhost:8080/"
        },
        "id": "5fOZDnJbt3L0",
        "outputId": "86676ab2-c859-4217-ab0f-aa57f8365fd1"
      },
      "outputs": [
        {
          "name": "stdout",
          "output_type": "stream",
          "text": [
            "Epoch 1/5\n",
            "32/32 [==============================] - 1188s 37s/step - loss: 3.2787 - accuracy: 0.0306 - val_loss: 3.2582 - val_accuracy: 0.0385\n",
            "Epoch 2/5\n",
            "32/32 [==============================] - 1149s 36s/step - loss: 3.2605 - accuracy: 0.0306 - val_loss: 3.2582 - val_accuracy: 0.0385\n",
            "Epoch 3/5\n",
            "32/32 [==============================] - 1224s 38s/step - loss: 3.2605 - accuracy: 0.0316 - val_loss: 3.2582 - val_accuracy: 0.0385\n",
            "Epoch 4/5\n",
            "32/32 [==============================] - 1253s 39s/step - loss: 3.2599 - accuracy: 0.0434 - val_loss: 3.2582 - val_accuracy: 0.0385\n",
            "Epoch 5/5\n",
            "32/32 [==============================] - 1256s 39s/step - loss: 3.2595 - accuracy: 0.0256 - val_loss: 3.2582 - val_accuracy: 0.0385\n"
          ]
        }
      ],
      "source": [
        "\n",
        "\n",
        "# Define the VGG architecture\n",
        "def vgg_block(x, num_filters, num_layers):\n",
        "    for i in range(num_layers):\n",
        "        x = layers.Conv2D(num_filters, 3, padding=\"same\", activation=\"relu\")(x)\n",
        "    x = layers.MaxPooling2D(2, strides=2)(x)\n",
        "    return x\n",
        "\n",
        "input_shape = (64, 64, 3)\n",
        "num_classes = 26\n",
        "\n",
        "inputs = layers.Input(shape=input_shape)\n",
        "x = vgg_block(inputs, 64, 2)\n",
        "x = vgg_block(x, 128, 2)\n",
        "x = vgg_block(x, 256, 3)\n",
        "x = vgg_block(x, 512, 3)\n",
        "x = vgg_block(x, 512, 3)\n",
        "x = layers.Flatten()(x)\n",
        "x = layers.Dense(4096, activation=\"relu\")(x)\n",
        "x = layers.Dropout(0.5)(x)\n",
        "x = layers.Dense(4096, activation=\"relu\")(x)\n",
        "x = layers.Dropout(0.5)(x)\n",
        "outputs = layers.Dense(num_classes, activation=\"softmax\")(x)\n",
        "\n",
        "model = tf.keras.Model(inputs=inputs, outputs=outputs)\n",
        "\n",
        "# Compile and train the model\n",
        "model.compile(loss=\"categorical_crossentropy\", optimizer=\"adam\", metrics=[\"accuracy\"])\n",
        "hist = model.fit(train_ds, batch_size=5, epochs=5, validation_data=test_ds)\n"
      ]
    },
    {
      "cell_type": "code",
      "execution_count": null,
      "metadata": {
        "colab": {
          "background_save": true
        },
        "id": "6atfvzk9jP0D",
        "outputId": "23a6be29-07e2-42b0-a39f-b87c380bbad0"
      },
      "outputs": [
        {
          "name": "stdout",
          "output_type": "stream",
          "text": [
            "MODEL ACCURACY = 2.5641025975346565%\n"
          ]
        }
      ],
      "source": [
        "print('MODEL ACCURACY = {}%'.format(hist.history[\"accuracy\"][-1]*100))"
      ]
    },
    {
      "cell_type": "code",
      "execution_count": null,
      "metadata": {
        "colab": {
          "background_save": true
        },
        "id": "nmzECpNujMZL",
        "outputId": "73acdb13-0e44-48d2-872e-17f0505a8d8b"
      },
      "outputs": [
        {
          "data": {
            "image/png": "[encoded data removed]",
            "text/plain": [
              "<Figure size 432x288 with 1 Axes>"
            ]
          },
          "metadata": {},
          "output_type": "display_data"
        },
        {
          "data": {
            "image/png": "[encoded data removed]",
            "text/plain": [
              "<Figure size 432x288 with 1 Axes>"
            ]
          },
          "metadata": {},
          "output_type": "display_data"
        }
      ],
      "source": [
        "\n",
        "plot.subplot(2,1,1)\n",
        "plot.plot(hist.history['accuracy'])\n",
        "plot.plot(hist.history['val_accuracy'])\n",
        "plot.title('VGG  model accuracy carve')\n",
        "plot.ylabel('accuracy')\n",
        "plot.xlabel('epoch')\n",
        "plot.legend(['train', 'test'], loc='lower right')\n",
        "plot.show()\n",
        "\n",
        "plot.subplot(2,1,1)\n",
        "plot.plot(hist.history['loss'])\n",
        "plot.plot(hist.history['val_loss'])\n",
        "plot.title('VGG Model Loss carve')\n",
        "plot.ylabel('Loss')\n",
        "plot.xlabel('epoch')\n",
        "plot.legend(['train', 'test'], loc='lower right')\n",
        "plot.show()"
      ]
    },
    {
      "cell_type": "code",
      "execution_count": null,
      "metadata": {
        "colab": {
          "background_save": true
        },
        "id": "ozAdfBJki6oP",
        "outputId": "9173ee64-e0c8-44d3-84d5-d52adda154ba"
      },
      "outputs": [
        {
          "name": "stdout",
          "output_type": "stream",
          "text": [
            "1/1 [==============================] - 3s 3s/step\n"
          ]
        },
        {
          "data": {
            "text/plain": [
              "<AxesSubplot:>"
            ]
          },
          "execution_count": 29,
          "metadata": {},
          "output_type": "execute_result"
        },
        {
          "data": {
            "image/png": "[encoded data removed]",
            "text/plain": [
              "<Figure size 432x288 with 2 Axes>"
            ]
          },
          "metadata": {},
          "output_type": "display_data"
        }
      ],
      "source": [
        "# Make predictions on the test data\n",
        "y_pred = model.predict(val_ds)\n",
        "y_pred_classes = np.argmax(y_pred, axis=1)\n",
        "# Generate the confusion matrix\n",
        "conf_mat = confusion_matrix(val_ds.classes, y_pred_classes, normalize='pred')\n",
        "\n",
        "#print('Confusion matrix:\\n', conf_mat)\n",
        "sns.heatmap(conf_mat, annot=True, fmt=\".1f\")"
      ]
    },
    {
      "cell_type": "code",
      "execution_count": null,
      "metadata": {
        "colab": {
          "background_save": true
        },
        "id": "uxQWCRngnc5B",
        "outputId": "1bede021-d8f0-4702-e7b9-8b04e798ba86"
      },
      "outputs": [
        {
          "name": "stdout",
          "output_type": "stream",
          "text": [
            "Confusion matrix Report:\n",
            "               precision    recall  f1-score   support\n",
            "\n",
            "           0       0.00      0.00      0.00      12.0\n",
            "           4       0.00      0.00      0.00       0.0\n",
            "\n",
            "    accuracy                           0.00      12.0\n",
            "   macro avg       0.00      0.00      0.00      12.0\n",
            "weighted avg       0.00      0.00      0.00      12.0\n",
            "\n"
          ]
        },
        {
          "name": "stderr",
          "output_type": "stream",
          "text": [
            "/usr/local/lib/python3.9/dist-packages/sklearn/metrics/_classification.py:1344: UndefinedMetricWarning: Precision and F-score are ill-defined and being set to 0.0 in labels with no predicted samples. Use `zero_division` parameter to control this behavior.\n",
            "  _warn_prf(average, modifier, msg_start, len(result))\n",
            "/usr/local/lib/python3.9/dist-packages/sklearn/metrics/_classification.py:1344: UndefinedMetricWarning: Recall and F-score are ill-defined and being set to 0.0 in labels with no true samples. Use `zero_division` parameter to control this behavior.\n",
            "  _warn_prf(average, modifier, msg_start, len(result))\n",
            "/usr/local/lib/python3.9/dist-packages/sklearn/metrics/_classification.py:1344: UndefinedMetricWarning: Precision and F-score are ill-defined and being set to 0.0 in labels with no predicted samples. Use `zero_division` parameter to control this behavior.\n",
            "  _warn_prf(average, modifier, msg_start, len(result))\n",
            "/usr/local/lib/python3.9/dist-packages/sklearn/metrics/_classification.py:1344: UndefinedMetricWarning: Recall and F-score are ill-defined and being set to 0.0 in labels with no true samples. Use `zero_division` parameter to control this behavior.\n",
            "  _warn_prf(average, modifier, msg_start, len(result))\n",
            "/usr/local/lib/python3.9/dist-packages/sklearn/metrics/_classification.py:1344: UndefinedMetricWarning: Precision and F-score are ill-defined and being set to 0.0 in labels with no predicted samples. Use `zero_division` parameter to control this behavior.\n",
            "  _warn_prf(average, modifier, msg_start, len(result))\n",
            "/usr/local/lib/python3.9/dist-packages/sklearn/metrics/_classification.py:1344: UndefinedMetricWarning: Recall and F-score are ill-defined and being set to 0.0 in labels with no true samples. Use `zero_division` parameter to control this behavior.\n",
            "  _warn_prf(average, modifier, msg_start, len(result))\n"
          ]
        }
      ],
      "source": [
        "\n",
        "conf_mat_repot = classification_report(val_ds.classes, y_pred_classes)\n",
        "\n",
        "print('Confusion matrix Report:\\n', conf_mat_repot)"
      ]
    },
    {
      "cell_type": "code",
      "execution_count": null,
      "metadata": {
        "colab": {
          "background_save": true
        },
        "id": "q7AE3qG6Hc5I"
      },
      "outputs": [],
      "source": []
    }
  ],
  "metadata": {
    "accelerator": "GPU",
    "colab": {
      "provenance": [],
      "mount_file_id": "1LsGX9u8QWI1jwDBIxyISKMI25BbXPzln",
      "authorship_tag": "ABX9TyMaAIwz6YtoFksDsx7Npkux",
      "include_colab_link": true
    },
    "gpuClass": "standard",
    "kernelspec": {
      "display_name": "Python 3",
      "name": "python3"
    },
    "language_info": {
      "name": "python"
    }
  },
  "nbformat": 4,
  "nbformat_minor": 0
}